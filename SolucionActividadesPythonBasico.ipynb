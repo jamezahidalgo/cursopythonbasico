{
  "nbformat": 4,
  "nbformat_minor": 0,
  "metadata": {
    "colab": {
      "name": "SolucionActividadesPythonBasico.ipynb",
      "provenance": [],
      "collapsed_sections": []
    },
    "kernelspec": {
      "name": "python3",
      "display_name": "Python 3"
    },
    "language_info": {
      "name": "python"
    }
  },
  "cells": [
    {
      "cell_type": "markdown",
      "metadata": {
        "id": "JxEF8tzlRppj"
      },
      "source": [
        "\n",
        "\n",
        "---\n",
        "\n",
        "\n",
        "# Ejercicios Variables, tipos de datos, operadores aritméticos y relacionales\n",
        "\n",
        "\n",
        "---\n",
        "\n"
      ]
    },
    {
      "cell_type": "markdown",
      "metadata": {
        "id": "05ElZazzJPPG"
      },
      "source": [
        "## Ejercicio 1\n",
        "\n",
        "+ Crear una variable y asigne el valor 29\n",
        "+ Crear otra variable y asigne el valor 3\n",
        "+ Calcular e imprimir el valor de la siguiente operación: la primera variable multiplicada por 5 más la segunda variable dividida por 2"
      ]
    },
    {
      "cell_type": "code",
      "metadata": {
        "id": "dKelDR0FYU8g",
        "colab": {
          "base_uri": "https://localhost:8080/"
        },
        "outputId": "ead3e04b-aab2-420b-aeb7-0ec5aac3a272"
      },
      "source": [
        "x = 29\n",
        "y = 3\n",
        "r = 5*x + y/2\n",
        "print(r)"
      ],
      "execution_count": null,
      "outputs": [
        {
          "output_type": "stream",
          "name": "stdout",
          "text": [
            "146.5\n"
          ]
        }
      ]
    },
    {
      "cell_type": "markdown",
      "metadata": {
        "id": "yXuBom6gLdiy"
      },
      "source": [
        "## Ejercicio 2\n",
        "\n",
        "Calcular e imprimir el resultado de las siguientes operaciones:\n",
        "\n",
        "+ $(\\frac{3+2}{2*5})^2$\n",
        "+ $\\frac{2}{3+5} + 2$\n",
        "+ $3^2 + (5*2 - 7)$"
      ]
    },
    {
      "cell_type": "code",
      "metadata": {
        "id": "G2c2S-GgYX4k",
        "colab": {
          "base_uri": "https://localhost:8080/"
        },
        "outputId": "fc9a9d70-914a-4226-8fd7-8e63ef6bc685"
      },
      "source": [
        "a = ((3+2)/(2*5))**2\n",
        "print(a)\n",
        "a = 2/(3+5) + 2\n",
        "print(a)\n",
        "a = 3**2 + (5*2 - 7)\n",
        "print(a)"
      ],
      "execution_count": null,
      "outputs": [
        {
          "output_type": "stream",
          "name": "stdout",
          "text": [
            "0.25\n",
            "2.25\n",
            "12\n"
          ]
        }
      ]
    },
    {
      "cell_type": "markdown",
      "metadata": {
        "id": "c5zgMeMBLCqX"
      },
      "source": [
        "## Ejercicio 3\n",
        "\n",
        "Leer un entero positivo, ***n***,  y después muestre en pantalla la suma de todos los enteros desde 1 hasta ***n***. La suma de los  primeros enteros positivos puede ser calculada de la siguiente forma:\n",
        "\n",
        "$suma = \\frac{n*(n+1)}{2}$"
      ]
    },
    {
      "cell_type": "code",
      "metadata": {
        "id": "gomxR_JpYa8L",
        "colab": {
          "base_uri": "https://localhost:8080/"
        },
        "outputId": "52e780ef-a681-4b3f-9529-b102409743ad"
      },
      "source": [
        "n = int(input(\"n = \"))\n",
        "suma = n*(n+1)/2\n",
        "print(suma)"
      ],
      "execution_count": null,
      "outputs": [
        {
          "output_type": "stream",
          "name": "stdout",
          "text": [
            "n = 3\n",
            "6.0\n"
          ]
        }
      ]
    },
    {
      "cell_type": "markdown",
      "metadata": {
        "id": "6E886S74XsL5"
      },
      "source": [
        "## Ejercicio 4\n",
        "\n",
        "Lea el número de horas trabajadas y el valor por hora. Después debe imprimir el sueldo que le corresponde que se calcula de acuerdo con la fórmula:\n",
        "\n",
        "$sueldo = valor_{hora} * cantidad_{horas}$"
      ]
    },
    {
      "cell_type": "code",
      "metadata": {
        "id": "Aozt3ybjYd0n",
        "colab": {
          "base_uri": "https://localhost:8080/"
        },
        "outputId": "6cd7f5e0-a6ca-4d95-b15f-0ea007732dc5"
      },
      "source": [
        "valor_hora = int(input(\"Valor hora = \"))\n",
        "cantidad_horas = int(input(\"Cantidad horas = \"))\n",
        "sueldo = valor_hora*cantidad_horas\n",
        "print(sueldo)"
      ],
      "execution_count": null,
      "outputs": [
        {
          "output_type": "stream",
          "name": "stdout",
          "text": [
            "Valor hora = 15000\n",
            "Cantidad horas = 4\n",
            "60000\n"
          ]
        }
      ]
    },
    {
      "cell_type": "markdown",
      "metadata": {
        "id": "dKD_YKOlY7mh"
      },
      "source": [
        "## Ejercicio 5\n",
        "\n",
        "Una juguetería tiene mucho éxito en dos de sus productos: payasos y muñecas. Suele hacer venta por correo y la empresa de logística les cobra por peso de cada paquete así que deben calcular el peso de los payasos y muñecas que saldrán en cada paquete a demanda. Cada payaso pesa 112 gramos y cada muñeca 75 gramos. Escribir el código necesario para leer el número de payasos y muñecas vendidos en el último pedido y calcule el peso total del paquete que será enviado."
      ]
    },
    {
      "cell_type": "code",
      "metadata": {
        "id": "WpjVdFa5ZKRc",
        "colab": {
          "base_uri": "https://localhost:8080/"
        },
        "outputId": "1a197c86-c805-4872-8ec7-f42148a92f7c"
      },
      "source": [
        "numero_payasos = int(input(\"Nro. payasos = \"))\n",
        "numero_munecas = int(input(\"Nro. muñecas = \"))\n",
        "valor_pagar = numero_payasos*112 + numero_munecas*75\n",
        "print(\"Valor pagar = \", valor_pagar)"
      ],
      "execution_count": null,
      "outputs": [
        {
          "output_type": "stream",
          "name": "stdout",
          "text": [
            "Nro. payasos = 3\n",
            "Nro. muñecas = 5\n",
            "Valor pagar =  711\n"
          ]
        }
      ]
    },
    {
      "cell_type": "markdown",
      "metadata": {
        "id": "OCqVTpFWR1U8"
      },
      "source": [
        "\n",
        "\n",
        "---\n",
        "\n",
        "\n",
        "# Ejercicios Listas\n",
        "\n",
        "\n",
        "---\n",
        "\n"
      ]
    },
    {
      "cell_type": "markdown",
      "metadata": {
        "id": "_lO5jSp1HupI"
      },
      "source": [
        "## Ejercicio 1 \n",
        "\n",
        "Considerando la lista:\n",
        "\n",
        "\n",
        "```\n",
        "lista = [23,56,67,2,12,90,34,15]\n",
        "```\n",
        "\n",
        "\n",
        "Agregar los elementos en la lista: 29, 15, 62"
      ]
    },
    {
      "cell_type": "code",
      "metadata": {
        "id": "8y_gbmEkIWP_",
        "colab": {
          "base_uri": "https://localhost:8080/"
        },
        "outputId": "d6867be0-e257-4bcf-a9c7-9710ebe888be"
      },
      "source": [
        "lista = [23,56,67,2,12,90,34,15]\n",
        "print(lista)\n",
        "lista.append(29)\n",
        "lista.append(15)\n",
        "lista = lista + [62] # Una forma distinta de agregar\n",
        "print(lista)"
      ],
      "execution_count": null,
      "outputs": [
        {
          "output_type": "stream",
          "name": "stdout",
          "text": [
            "[23, 56, 67, 2, 12, 90, 34, 15]\n",
            "[23, 56, 67, 2, 12, 90, 34, 15, 29, 15, 62]\n"
          ]
        }
      ]
    },
    {
      "cell_type": "markdown",
      "metadata": {
        "id": "WC7uNhY9IbGM"
      },
      "source": [
        "## Ejercicio 2\n",
        "\n",
        "Considerando la lista resultante del ejercicio anterior, escriba las instrucciones para: \n",
        "+ Eliminar el 56 de la lista\n",
        "+ Imprimir contenido de la lista \n",
        "+ Imprimir el total de elementos de la lista"
      ]
    },
    {
      "cell_type": "code",
      "metadata": {
        "id": "Zz2qiyFzJC6L",
        "colab": {
          "base_uri": "https://localhost:8080/"
        },
        "outputId": "6add4687-548e-4c1a-954b-b9506cf6bb36"
      },
      "source": [
        "lista.remove(56)\n",
        "print(lista)\n",
        "print(len(lista))"
      ],
      "execution_count": null,
      "outputs": [
        {
          "output_type": "stream",
          "name": "stdout",
          "text": [
            "[23, 67, 2, 12, 90, 34, 15, 29, 15, 62]\n",
            "10\n"
          ]
        }
      ]
    },
    {
      "cell_type": "markdown",
      "metadata": {
        "id": "AWZzFIYJR3_7"
      },
      "source": [
        "## Ejercicio 3\n",
        "\n",
        "Convierta la lista \n",
        "\n",
        "\n",
        "```\n",
        "a=[1,[2,[3,4]],5]\n",
        "```\n",
        "Escriba las instrucciones necesarias para convertir la lista en\n",
        "\n",
        "[1,[2,[3, 4],[6,7]], 5]"
      ]
    },
    {
      "cell_type": "code",
      "metadata": {
        "id": "LTfMnJ9PDGv8",
        "colab": {
          "base_uri": "https://localhost:8080/"
        },
        "outputId": "d53292cb-06db-408a-fc89-f217bf03afe2"
      },
      "source": [
        "a = [1,[2,[3,4]],5]\n",
        "a[1].append([6,7])\n",
        "print(a)"
      ],
      "execution_count": null,
      "outputs": [
        {
          "output_type": "stream",
          "name": "stdout",
          "text": [
            "[1, [2, [3, 4], [6, 7]], 5]\n"
          ]
        }
      ]
    },
    {
      "cell_type": "markdown",
      "metadata": {
        "id": "9ExnfhSXK-RG"
      },
      "source": [
        "## Ejercicio 4\n",
        "\n",
        "Asigne a una variable la cadena \"esto es un ejemplo\" y luego imprima por pantalla la\n",
        "cadena \"un ejemplo es esto\" utilizando slices."
      ]
    },
    {
      "cell_type": "code",
      "metadata": {
        "id": "pFAvmaEGzFMT",
        "colab": {
          "base_uri": "https://localhost:8080/"
        },
        "outputId": "9ec524ac-22f0-48eb-9f7e-2db926f173f9"
      },
      "source": [
        "cadena = \"esto es un ejemplo\"\n",
        "palabras = cadena.split(\" \")\n",
        "primero = palabras[len(palabras)-2] + \" \" + palabras[-1]\n",
        "segundo = \" \" + palabras[0] + \" \" + palabras[1]\n",
        "print(primero + segundo)"
      ],
      "execution_count": null,
      "outputs": [
        {
          "output_type": "stream",
          "name": "stdout",
          "text": [
            "un ejemplo esto es\n"
          ]
        }
      ]
    },
    {
      "cell_type": "markdown",
      "metadata": {
        "id": "VPOstzGwFyKl"
      },
      "source": [
        "\n",
        "\n",
        "---\n",
        "\n",
        "\n",
        "# Ejercicios Tuplas\n",
        "\n",
        "\n",
        "---\n",
        "\n"
      ]
    },
    {
      "cell_type": "markdown",
      "metadata": {
        "id": "at2PVXhdy49f"
      },
      "source": [
        "## Ejercicio 1\n",
        "\n",
        "Escribir las intrucciones necesarias para:\n",
        "\n",
        "+ Almacenar las siguientes asignaturas en una lista: Matemáticas, Física, Química, Historia y Lengua).\n",
        "+ Leer un número entero que indica una ubicación dentro de la lista.\n",
        "+ Leer un número decimal que represente la nota de esa asignatura.\n",
        "+ Genere una tupla que contenga el nombre de la asignatura y la nota ingresada.\n",
        "+ Imprimir la tupla creada."
      ]
    },
    {
      "cell_type": "code",
      "metadata": {
        "id": "NPAQM2ds0hlB",
        "colab": {
          "base_uri": "https://localhost:8080/"
        },
        "outputId": "e5e4cc3e-a673-4e07-8144-149c3069c113"
      },
      "source": [
        "asignaturas = ['Matemáticas', 'Física', 'Química', 'Historia', 'Lengua']\n",
        "# Lee el número entero y la nota\n",
        "ubicacion = int(input(\"Ubicación = \"))\n",
        "nota = float(input(\"Nota = \"))\n",
        "# Crea la tupla\n",
        "t = (asignaturas[ubicacion-1], nota)\n",
        "# Imprime la tupla\n",
        "print(t)"
      ],
      "execution_count": null,
      "outputs": [
        {
          "output_type": "stream",
          "name": "stdout",
          "text": [
            "Ubicación = 2\n",
            "Nota = 3.5\n",
            "('Física', 3.5)\n"
          ]
        }
      ]
    },
    {
      "cell_type": "markdown",
      "metadata": {
        "id": "u4Z_xLRT8zO8"
      },
      "source": [
        "## Ejercicio 2\n",
        "\n",
        "Escriba las instrucciones necesarias para:\n",
        "\n",
        "+ Crea una tupla con los valores: 12, 267, 29, 6, 15, 9 \n",
        "+ Leer un índice por teclado y mostrar el valor guardado en la ubicación indica por el índice"
      ]
    },
    {
      "cell_type": "code",
      "metadata": {
        "id": "fasWYqnrAMEe",
        "colab": {
          "base_uri": "https://localhost:8080/"
        },
        "outputId": "195ee298-24b2-4877-a6f6-5818a0c1205e"
      },
      "source": [
        "# Crea la tupla\n",
        "t = (12,267,29,6,15,9)\n",
        "# Lee el índice por teclado\n",
        "indice = int(input(\"Indice = \"))\n",
        "print(t[indice])"
      ],
      "execution_count": null,
      "outputs": [
        {
          "output_type": "stream",
          "name": "stdout",
          "text": [
            "Indice = 3\n",
            "6\n"
          ]
        }
      ]
    },
    {
      "cell_type": "markdown",
      "metadata": {
        "id": "YReWJGYZR6F1"
      },
      "source": [
        "\n",
        "\n",
        "---\n",
        "\n",
        "\n",
        "# Ejercicios Conjuntos\n",
        "\n",
        "\n",
        "---\n",
        "\n"
      ]
    },
    {
      "cell_type": "markdown",
      "metadata": {
        "id": "qXA1NGVtFqSz"
      },
      "source": [
        "## Ejercicio 1\n",
        "\n",
        "Escriba las instrucciones necesarias para:\n",
        "\n",
        "+ Crear 2 conjuntos ***A*** de 5 elementos y ***B*** de 7 elementos\n",
        "+ Imprima en pantalla el conjunto resultante de unir los conjuntos A y B.\n",
        "+ Imprima en pantalla el conjunto resultante de la intersección entre A y B.\n",
        "+ Imprima en pantalla el conjunto resultante de  A - B.\n",
        "+ Imprima en pantalla el conjunto resultante de  B - A.\n",
        "+ Imprima en pantalla un True o False dependiendo de si los conjuntos son disconexos.\n",
        "+ Imprima la diferencia simétrica entre A y B."
      ]
    },
    {
      "cell_type": "code",
      "metadata": {
        "id": "WzUn2uuVG32d",
        "colab": {
          "base_uri": "https://localhost:8080/"
        },
        "outputId": "7ec0790e-1683-44f3-dc8a-28b4499c4d80"
      },
      "source": [
        "A = {15,25,3,30,4}\n",
        "B = {9,4,1,32,89,91,23}\n",
        "print(\"A unido B\", A.union(B))\n",
        "print(\"A intersectado B\",A.intersection(B))\n",
        "print(\"A menos B\", A.difference(B))\n",
        "print(\"B menos A\", B.difference(A))\n",
        "print(A.isdisjoint(B))\n",
        "print(\"Diferencia simétrica entre A y B\", A.symmetric_difference(B))"
      ],
      "execution_count": null,
      "outputs": [
        {
          "output_type": "stream",
          "name": "stdout",
          "text": [
            "A unido B {32, 1, 89, 3, 4, 9, 15, 23, 25, 91, 30}\n",
            "A intersectado B {4}\n",
            "A menos B {25, 3, 30, 15}\n",
            "B menos A {32, 1, 9, 23, 89, 91}\n",
            "False\n",
            "Diferencia simétrica entre A y B {1, 3, 9, 15, 23, 89, 25, 91, 30, 32}\n"
          ]
        }
      ]
    },
    {
      "cell_type": "markdown",
      "metadata": {
        "id": "zfVgCqbuH86Z"
      },
      "source": [
        "## Ejercicio 2\n",
        "\n",
        "Considerando los conjuntos creados en el ejercicio 1, escriba las instrucciones necesarias para:\n",
        "\n",
        "+ Leer un núnero y agregarlo al conjunto A\n",
        "+ Leer un número y eliminarlo del conjunto B. Considere que el número ingresado debe ser un valor presente en el conjunto\n",
        "+ Imprimir los conjuntos A y B."
      ]
    },
    {
      "cell_type": "code",
      "metadata": {
        "id": "spo2gWIpIpzK",
        "colab": {
          "base_uri": "https://localhost:8080/"
        },
        "outputId": "9ee4c4bb-91e1-4e99-f1a3-eaa7deffe039"
      },
      "source": [
        "# Lee el número y lo agrega a A\n",
        "nuevo = int(input(\"Número = \"))\n",
        "A.add(nuevo)\n",
        "victima = int(input(\"Valor a eliminar de B\"))\n",
        "B.remove(victima)\n",
        "print(A)\n",
        "print(B)"
      ],
      "execution_count": null,
      "outputs": [
        {
          "output_type": "stream",
          "name": "stdout",
          "text": [
            "Número = 259\n",
            "Valor a eliminar de B89\n",
            "{3, 4, 259, 15, 25, 30}\n",
            "{32, 1, 4, 9, 23, 91}\n"
          ]
        }
      ]
    },
    {
      "cell_type": "markdown",
      "metadata": {
        "id": "93SjotMbR8Bi"
      },
      "source": [
        "\n",
        "\n",
        "---\n",
        "\n",
        "\n",
        "# Ejercicios Diccionarios\n",
        "\n",
        "\n",
        "---\n",
        "\n"
      ]
    },
    {
      "cell_type": "markdown",
      "metadata": {
        "id": "3xizgMkbAPmF"
      },
      "source": [
        "## Ejercicio 1\n",
        "\n",
        "Considerando la siguiente tabla de impuesto\n",
        "<table>\n",
        "  <thead>\n",
        "    <th>Película</th>\n",
        "    <th>Calificación</th>\n",
        "  </thead>\n",
        "  <tbody>\n",
        "    <tr>\n",
        "      <td>Dr. Strange</td>\n",
        "      <td>7</td>\n",
        "    </tr>\n",
        "    <tr>\n",
        "      <td>Capitan América: civil war</td>\n",
        "      <td>6</td>\n",
        "    </tr>    \n",
        "    <tr>\n",
        "      <td>Avengers: la era de ultron</td>\n",
        "      <td>8</td>\n",
        "    </tr>   \n",
        "    <tr>\n",
        "      <td>Avengers: end game</td>\n",
        "      <td>10</td>\n",
        "    </tr>             \n",
        "    <tr>\n",
        "      <td>Pantera negra</td>\n",
        "      <td>6</td>\n",
        "    </tr>             \n",
        "  </tbody>\n",
        "</table>\n",
        "\n",
        "Escriba las instrucciones necesarias para:\n",
        "+ Crear un diccionario cuya clave sea el nombre de la película y el valor sea la calificación\n",
        "+ Imprimir el contenido del diccionario"
      ]
    },
    {
      "cell_type": "code",
      "metadata": {
        "id": "QegHjQKRBG4m",
        "colab": {
          "base_uri": "https://localhost:8080/"
        },
        "outputId": "31e108d5-ddd6-4820-b821-328df5ca195f"
      },
      "source": [
        "# Crea el diccionario\n",
        "peliculas = {\"Dr. strange\":7, \"Capitan América: civil war\":6,\n",
        "             \"Avengers: la era de ultron\":8,\n",
        "             \"Avengers: end game\": 10,\n",
        "             \"Pantera negra\":6}\n",
        "print(peliculas)"
      ],
      "execution_count": null,
      "outputs": [
        {
          "output_type": "stream",
          "name": "stdout",
          "text": [
            "{'Dr. strange': 7, 'Capitan América: civil war': 6, 'Avengers: la era de ultron': 8, 'Avengers: end game': 10, 'Pantera negra': 6}\n"
          ]
        }
      ]
    },
    {
      "cell_type": "markdown",
      "metadata": {
        "id": "2rzyXTTqBOSC"
      },
      "source": [
        "## Ejercicio 2\n",
        "\n",
        "Considerando el diccionario del ejercicio anterior, se pide escribir las instrucciones necesarias para:\n",
        "\n",
        "+ Leer el nombre de una película\n",
        "+ Mostrar en pantalla un True o un False para saber si la película ingresada estña o no almacenada en la colección."
      ]
    },
    {
      "cell_type": "code",
      "metadata": {
        "id": "I9yuluq7BkoW",
        "colab": {
          "base_uri": "https://localhost:8080/"
        },
        "outputId": "7f7b8897-33de-4b36-eaf8-8135a88987d7"
      },
      "source": [
        "# Lee el nombre de la película\n",
        "nombre = input(\"Nombre película =\")\n",
        "nombre in peliculas"
      ],
      "execution_count": null,
      "outputs": [
        {
          "name": "stdout",
          "output_type": "stream",
          "text": [
            "Nombre película =Pantera negra\n"
          ]
        },
        {
          "output_type": "execute_result",
          "data": {
            "text/plain": [
              "True"
            ]
          },
          "metadata": {},
          "execution_count": 14
        }
      ]
    },
    {
      "cell_type": "markdown",
      "metadata": {
        "id": "qGn3wQo1Bt55"
      },
      "source": [
        "## Ejercicio 3\n",
        "\n",
        "Considerando el diccionario del ejercicio 1, se pide escribir las instrucciones necesarias para:\n",
        "\n",
        "+ Leer el nombre de una película (una de las registradas en la colección).\n",
        "+ Leer la nueva calificación de la película.\n",
        "+ Cambiar el valor de la calificación registrada por la nueva calificación leída.\n",
        "+ Imprimir el contenido de la colección."
      ]
    },
    {
      "cell_type": "code",
      "metadata": {
        "id": "DZVodLpmCMxn",
        "colab": {
          "base_uri": "https://localhost:8080/"
        },
        "outputId": "0c1e9f71-821f-4392-a653-d3871297a103"
      },
      "source": [
        "# Lee el nombre de la película\n",
        "nombre = input(\"Nombre película =\")\n",
        "# Leer la nueva calificación\n",
        "calificacion = int(input(\"Nueva calificación\"))\n",
        "peliculas[nombre] = calificacion\n",
        "print(peliculas)"
      ],
      "execution_count": null,
      "outputs": [
        {
          "output_type": "stream",
          "name": "stdout",
          "text": [
            "Nombre película =Pantera negra\n",
            "Nueva calificación3\n",
            "{'Dr. strange': 7, 'Capitan América: civil war': 6, 'Avengers: la era de ultron': 8, 'Avengers: end game': 10, 'Pantera negra': 3}\n"
          ]
        }
      ]
    },
    {
      "cell_type": "markdown",
      "metadata": {
        "id": "TPG9M6S7R-Vh"
      },
      "source": [
        "\n",
        "\n",
        "---\n",
        "\n",
        "\n",
        "# Ejercicios Condiciones\n",
        "\n",
        "\n",
        "---\n",
        "\n"
      ]
    },
    {
      "cell_type": "markdown",
      "metadata": {
        "id": "JLHwLrfQZ9jh"
      },
      "source": [
        "## Ejercicio 1\n",
        "\n",
        "Leer desde teclado la edad de una persona y luego imprimir un mensaje que indique si la persona es mayor de edad o no.\n",
        "\n",
        "\n"
      ]
    },
    {
      "cell_type": "code",
      "metadata": {
        "id": "crQuhwlNaoaq",
        "colab": {
          "base_uri": "https://localhost:8080/"
        },
        "outputId": "2ed088e0-e7b1-46d3-cafe-ab6dc3866ae5"
      },
      "source": [
        "# Lee la edad de la persona\n",
        "edad = int(input(\"Edad de la persona = \"))\n",
        "if edad >= 18:\n",
        "  print(\"Es mayor de edad\")\n",
        "else:\n",
        "  print(\"No es mayor de edad\")"
      ],
      "execution_count": null,
      "outputs": [
        {
          "output_type": "stream",
          "name": "stdout",
          "text": [
            "Edad de la persona = 23\n",
            "Es mayor de edad\n"
          ]
        }
      ]
    },
    {
      "cell_type": "markdown",
      "metadata": {
        "id": "3FUDU64HaRAy"
      },
      "source": [
        "## Ejercicio 2\n",
        "\n",
        "Almacenar en una variable una cadena de caracteres que representa una contraseña, pedir al usuario que ingrese una contraseña e imprimir un mensaje que indique si la contraseña introducida por el usuario coincide con la guardada en la variable sin tener en cuenta mayúsculas y minúsculas."
      ]
    },
    {
      "cell_type": "code",
      "metadata": {
        "id": "pszCm6E3aqYY",
        "colab": {
          "base_uri": "https://localhost:8080/"
        },
        "outputId": "99489b7a-c52a-4a18-cd4a-7da453d996a7"
      },
      "source": [
        "# Almacena la contraseña\n",
        "passwd = \"soylaclave\"\n",
        "clave = input(\"Ingrese contraseña =\")\n",
        "if passwd.upper() == clave.upper():\n",
        "  print(\"Coinciden\")\n",
        "else:\n",
        "  print(\"No coinciden\")"
      ],
      "execution_count": null,
      "outputs": [
        {
          "output_type": "stream",
          "name": "stdout",
          "text": [
            "Ingrese contraseña =Soylaclave\n",
            "Coinciden\n"
          ]
        }
      ]
    },
    {
      "cell_type": "markdown",
      "metadata": {
        "id": "X05yLrJwayaM"
      },
      "source": [
        "## Ejercicio 3\n",
        "\n",
        "Leer dos números e imprimir el resultado de su división. Si el divisor es cero se debe mostrar un mensaje de error."
      ]
    },
    {
      "cell_type": "code",
      "metadata": {
        "id": "EPfMJpwea9Gq",
        "colab": {
          "base_uri": "https://localhost:8080/"
        },
        "outputId": "c397abb5-f5d3-4772-9305-f8fb656b7b81"
      },
      "source": [
        "# Lee los números\n",
        "dividendo = int(input(\"Dividendo =\"))\n",
        "divisor = int(input(\"Divisor =\"))\n",
        "if divisor == 0:\n",
        "  print(\"No existe la división por cero\")\n",
        "else:\n",
        "  print(\"Division entera =\", dividendo//divisor)\n",
        "  print(\"Division decimal =\", dividendo/divisor)"
      ],
      "execution_count": null,
      "outputs": [
        {
          "output_type": "stream",
          "name": "stdout",
          "text": [
            "Dividendo =4\n",
            "Divisor =0\n",
            "No existe la división por cero\n"
          ]
        }
      ]
    },
    {
      "cell_type": "markdown",
      "metadata": {
        "id": "2Fd98Yi-bCUr"
      },
      "source": [
        "## Ejercicio 4\n",
        "\n",
        "Leer un número entero e imprimir por pantalla un mensaje que indique si es par o impar."
      ]
    },
    {
      "cell_type": "code",
      "metadata": {
        "id": "kw47QTOYbQYo",
        "colab": {
          "base_uri": "https://localhost:8080/"
        },
        "outputId": "58b04c74-bcda-4f79-902d-0eed01efb712"
      },
      "source": [
        "# Lee el número\n",
        "numero = int(input(\"Número =\"))\n",
        "if numero % 2 == 0:\n",
        "  print(numero, \"es par\")\n",
        "else:\n",
        "  print(numero, \"es impar\")"
      ],
      "execution_count": null,
      "outputs": [
        {
          "output_type": "stream",
          "name": "stdout",
          "text": [
            "Número =29\n",
            "29 es impar\n"
          ]
        }
      ]
    },
    {
      "cell_type": "markdown",
      "metadata": {
        "id": "GBMCSwFYbTcg"
      },
      "source": [
        "## Ejercicio 5\n",
        "\n",
        "Se ha definido un impuesto que debe pagado por las personas cuya edad está entre 20 y 33 años y tener un sueldo igual o superior a $680.000 mensuales. Escribir las instrucciones necesarias para leer la edad y sueldo de una persona e imprimir un mensaje que indique si la persona debe pagar el impuesto o no"
      ]
    },
    {
      "cell_type": "code",
      "metadata": {
        "id": "5YSmwBzFb-4q",
        "colab": {
          "base_uri": "https://localhost:8080/"
        },
        "outputId": "d3d93e9f-1c97-4216-f92d-c8f97c888b59"
      },
      "source": [
        "# Lee la edad y sueldo de la persona\n",
        "edad = int(input(\"Edad =\"))\n",
        "sueldo = int(input(\"Sueldo =\"))\n",
        "if (edad >= 20 and edad <= 33) and sueldo >= 680000:\n",
        "  print(\"Si paga impuesto\")\n",
        "else:\n",
        "  print(\"No paga impuesto\")"
      ],
      "execution_count": null,
      "outputs": [
        {
          "output_type": "stream",
          "name": "stdout",
          "text": [
            "Edad =30\n",
            "Sueldo =340000\n",
            "No paga impuesto\n"
          ]
        }
      ]
    },
    {
      "cell_type": "markdown",
      "metadata": {
        "id": "yf9nBVtrcHgo"
      },
      "source": [
        "## Ejercicio 6\n",
        "\n",
        "Los integrantes de un grupo serán divididos en dos grupos A y B de acuerdo a su género y el nombre. El grupo A estará formado por las mujeres con un nombre anterior a la M y los hombres con un nombre posterior a la N y el grupo B por el resto. Escribir las instrucciones para leer el nombre y género de una persona e imprima el grupo que le corresponde."
      ]
    },
    {
      "cell_type": "code",
      "metadata": {
        "id": "b6Z6g8jqcnLy",
        "colab": {
          "base_uri": "https://localhost:8080/"
        },
        "outputId": "09c5170c-7784-4569-de1b-0b7e3a86b9f6"
      },
      "source": [
        "# Lee los datos\n",
        "genero = input(\"Género (M)ujer / (H)ombre = \")\n",
        "nombre = input(\"Nombre =\")\n",
        "if (genero == 'M' and nombre.upper() < 'M') or (genero == 'H' and nombre.upper() > 'N'):\n",
        "   print(\"Grupo A\")\n",
        "else:\n",
        "  print(\"Grupo B\")"
      ],
      "execution_count": null,
      "outputs": [
        {
          "output_type": "stream",
          "name": "stdout",
          "text": [
            "Género = M\n",
            "Nombre =Valentina\n",
            "Grupo B\n"
          ]
        }
      ]
    },
    {
      "cell_type": "markdown",
      "metadata": {
        "id": "YYlTQm1dc6Mw"
      },
      "source": [
        "## Ejercicio 7\n",
        "\n",
        "Considerando la siguiente tabla de impuesto\n",
        "<table>\n",
        "  <thead>\n",
        "    <th>Rango sueldo</th>\n",
        "    <th>% sueldo que corresponde al impuesto</th>\n",
        "  </thead>\n",
        "  <tbody>\n",
        "    <tr>\n",
        "      <td>Menos de $360.000</td>\n",
        "      <td>5%</td>\n",
        "    </tr>\n",
        "    <tr>\n",
        "      <td>Entre $360.000 y menos de $500.000</td>\n",
        "      <td>10%</td>\n",
        "    </tr>    \n",
        "    <tr>\n",
        "      <td>Entre $500.000 y menos de $700.000</td>\n",
        "      <td>13%</td>\n",
        "    </tr>   \n",
        "    <tr>\n",
        "      <td>Igual o superior de $700.000</td>\n",
        "      <td>20%</td>\n",
        "    </tr>             \n",
        "  </tbody>\n",
        "</table>\n",
        "\n",
        "Escriba las instrucciones necesarias para:\n",
        "+ Leer el sueldo de una persona\n",
        "+ Calcular e imprimir el monto del impuesto que debe pagar\n"
      ]
    },
    {
      "cell_type": "code",
      "metadata": {
        "id": "CU3lxXTkfuRb",
        "colab": {
          "base_uri": "https://localhost:8080/"
        },
        "outputId": "2335f189-d5d3-4251-9d68-542203899872"
      },
      "source": [
        "# Obtiene el sueldo\n",
        "sueldo = int(input(\"Sueldo = \"))\n",
        "# Obtiene el porcentaje de acuerdo a las reglas\n",
        "if (sueldo < 360000):\n",
        "  porcentaje = 0.05\n",
        "elif sueldo < 500000:\n",
        "  porcentaje = 0.1\n",
        "elif sueldo < 700000:\n",
        "  porcentaje = 0.13\n",
        "else:\n",
        "  porcentaje = 0.2\n",
        "print(\"Impuesto a pagar\",sueldo*porcentaje)"
      ],
      "execution_count": null,
      "outputs": [
        {
          "output_type": "stream",
          "name": "stdout",
          "text": [
            "Sueldo =450000\n",
            "Impuesto a pagar 45000.0\n"
          ]
        }
      ]
    },
    {
      "cell_type": "code",
      "metadata": {
        "colab": {
          "base_uri": "https://localhost:8080/"
        },
        "id": "zZbYw4NI8l_Q",
        "outputId": "f848ce6e-f2b0-4978-d3de-f359a72028ef"
      },
      "source": [
        "# Otra alternativa, usando solo if\n",
        "sueldo = int(input(\"Sueldo = \"))\n",
        "porcentaje = 0.05\n",
        "if sueldo >= 360000 and sueldo < 500000:\n",
        "  porcentaje = 0.1\n",
        "if sueldo >= 500000 and sueldo < 700000:\n",
        "  porcentaje = 0.13\n",
        "if sueldo >= 700000:\n",
        "  porcentaje = 0.2\n",
        "print(\"Impuesto a pagar\",sueldo*porcentaje)"
      ],
      "execution_count": null,
      "outputs": [
        {
          "output_type": "stream",
          "name": "stdout",
          "text": [
            "Sueldo =230000\n",
            "Impuesto a pagar 11500.0\n"
          ]
        }
      ]
    },
    {
      "cell_type": "markdown",
      "metadata": {
        "id": "dyftU24DSAMi"
      },
      "source": [
        "# Ejercicios Ciclos repetitivos\n",
        "\n",
        "\n",
        "---\n",
        "\n"
      ]
    },
    {
      "cell_type": "markdown",
      "metadata": {
        "id": "tsS6zcvyF495"
      },
      "source": [
        "## Ejercicio 1\n",
        "\n",
        "Considerando la tupla, se pide (usando ciclos), obtener una lista con todos los elementos de la lista"
      ]
    },
    {
      "cell_type": "code",
      "metadata": {
        "id": "ULSQiDRHGSaF",
        "colab": {
          "base_uri": "https://localhost:8080/"
        },
        "outputId": "edb2178b-bdd4-40fc-c2ae-2a3bece8de5c"
      },
      "source": [
        "x = (2,25,3,56,21,90,87,123,890)\n",
        "# Crea la lista\n",
        "lista = []\n",
        "# Recorre la tupla\n",
        "for elemento in x:\n",
        "  lista.append(elemento)\n",
        "print(lista)"
      ],
      "execution_count": null,
      "outputs": [
        {
          "output_type": "stream",
          "name": "stdout",
          "text": [
            "[2, 25, 3, 56, 21, 90, 87, 123, 890]\n"
          ]
        }
      ]
    },
    {
      "cell_type": "markdown",
      "metadata": {
        "id": "2EZW75njH6IM"
      },
      "source": [
        "## Ejercicio 2\n",
        "\n",
        "Imprimir los números múltiplos de 7 entre el 1 y el 1000"
      ]
    },
    {
      "cell_type": "code",
      "metadata": {
        "id": "0I4xy1N0IFo4",
        "colab": {
          "base_uri": "https://localhost:8080/"
        },
        "outputId": "ac844b5b-c38a-4e8d-9cc1-7a79bb763cf0"
      },
      "source": [
        "multiplo = 7\n",
        "while multiplo < 1000:\n",
        "  print(multiplo)\n",
        "  multiplo+=7"
      ],
      "execution_count": null,
      "outputs": [
        {
          "output_type": "stream",
          "name": "stdout",
          "text": [
            "7\n",
            "14\n",
            "21\n",
            "28\n",
            "35\n",
            "42\n",
            "49\n",
            "56\n",
            "63\n",
            "70\n",
            "77\n",
            "84\n",
            "91\n",
            "98\n",
            "105\n",
            "112\n",
            "119\n",
            "126\n",
            "133\n",
            "140\n",
            "147\n",
            "154\n",
            "161\n",
            "168\n",
            "175\n",
            "182\n",
            "189\n",
            "196\n",
            "203\n",
            "210\n",
            "217\n",
            "224\n",
            "231\n",
            "238\n",
            "245\n",
            "252\n",
            "259\n",
            "266\n",
            "273\n",
            "280\n",
            "287\n",
            "294\n",
            "301\n",
            "308\n",
            "315\n",
            "322\n",
            "329\n",
            "336\n",
            "343\n",
            "350\n",
            "357\n",
            "364\n",
            "371\n",
            "378\n",
            "385\n",
            "392\n",
            "399\n",
            "406\n",
            "413\n",
            "420\n",
            "427\n",
            "434\n",
            "441\n",
            "448\n",
            "455\n",
            "462\n",
            "469\n",
            "476\n",
            "483\n",
            "490\n",
            "497\n",
            "504\n",
            "511\n",
            "518\n",
            "525\n",
            "532\n",
            "539\n",
            "546\n",
            "553\n",
            "560\n",
            "567\n",
            "574\n",
            "581\n",
            "588\n",
            "595\n",
            "602\n",
            "609\n",
            "616\n",
            "623\n",
            "630\n",
            "637\n",
            "644\n",
            "651\n",
            "658\n",
            "665\n",
            "672\n",
            "679\n",
            "686\n",
            "693\n",
            "700\n",
            "707\n",
            "714\n",
            "721\n",
            "728\n",
            "735\n",
            "742\n",
            "749\n",
            "756\n",
            "763\n",
            "770\n",
            "777\n",
            "784\n",
            "791\n",
            "798\n",
            "805\n",
            "812\n",
            "819\n",
            "826\n",
            "833\n",
            "840\n",
            "847\n",
            "854\n",
            "861\n",
            "868\n",
            "875\n",
            "882\n",
            "889\n",
            "896\n",
            "903\n",
            "910\n",
            "917\n",
            "924\n",
            "931\n",
            "938\n",
            "945\n",
            "952\n",
            "959\n",
            "966\n",
            "973\n",
            "980\n",
            "987\n",
            "994\n"
          ]
        }
      ]
    },
    {
      "cell_type": "markdown",
      "metadata": {
        "id": "IZT4qwrNW-PE"
      },
      "source": [
        "## Ejercicio 3\n",
        "\n",
        "Leer un número entero positivo e imprimir todos los números impares desde 1 hasta el valor ingreasado separados por comas."
      ]
    },
    {
      "cell_type": "code",
      "metadata": {
        "id": "771kYaS9gcwD",
        "colab": {
          "base_uri": "https://localhost:8080/"
        },
        "outputId": "eaba8296-9445-4356-da2d-f70c40800cfe"
      },
      "source": [
        "# Lee el entero positivo\n",
        "n = int(input(\"n = \"))\n",
        "# Genera los números y los dejando en una cadena de caracteres\n",
        "numeros = \"1\"\n",
        "for numero in range(3,n,2):\n",
        "  numeros = numeros + \",\" + str(numero) \n",
        "print(numeros)"
      ],
      "execution_count": null,
      "outputs": [
        {
          "output_type": "stream",
          "name": "stdout",
          "text": [
            "n = 8\n",
            "1,3,5,7\n"
          ]
        }
      ]
    },
    {
      "cell_type": "markdown",
      "metadata": {
        "id": "wCVWmr9rXl_b"
      },
      "source": [
        "## Ejercicio 4\n",
        "\n",
        "Leer un número entero positivo e imprimir todos los números desde el valor ingresado hasta 0 separados por comas."
      ]
    },
    {
      "cell_type": "code",
      "metadata": {
        "id": "pNJtfaZfgw7f",
        "colab": {
          "base_uri": "https://localhost:8080/"
        },
        "outputId": "b247f02c-13d6-4688-86aa-ece745e9302b"
      },
      "source": [
        "# Lee el entero positivo\n",
        "n = int(input(\"n = \"))\n",
        "# Genera los números y los va dejando en una cadena de caracteres\n",
        "valor = n\n",
        "numeros = str(n)\n",
        "for i in range(1,n+1): \n",
        "  valor -= 1\n",
        "  numeros = numeros + \",\" + str(valor)\n",
        "print(numeros)"
      ],
      "execution_count": null,
      "outputs": [
        {
          "output_type": "stream",
          "name": "stdout",
          "text": [
            "n = 9\n",
            "9,8,7,6,5,4,3,2,1,0\n"
          ]
        }
      ]
    },
    {
      "cell_type": "markdown",
      "metadata": {
        "id": "svkLyQa_g4Ie"
      },
      "source": [
        "## Ejercicio 5\n",
        "\n",
        "Leer un número entero y un caracter e imprima en pantalla un triángulo rectángulo como el que se indica:\n",
        "\n",
        "a\n",
        "\n",
        "aa\n",
        "\n",
        "aaa\n",
        "\n",
        "aaaa\n",
        "\n",
        "En este ejemplo se ingresa un 4 y el caracter es la letra 'a'"
      ]
    },
    {
      "cell_type": "code",
      "metadata": {
        "id": "kv7VWQexhh7B",
        "colab": {
          "base_uri": "https://localhost:8080/"
        },
        "outputId": "ae325966-26bf-4c62-c115-bd441c869359"
      },
      "source": [
        "caracter = input(\"Caracter = \")\n",
        "n = int(input(\"n = \"))\n",
        "for i in range(n+1):\n",
        "  linea = \"\"\n",
        "  for j in range(i):\n",
        "    linea = linea + caracter\n",
        "  print(linea)"
      ],
      "execution_count": null,
      "outputs": [
        {
          "output_type": "stream",
          "name": "stdout",
          "text": [
            "Caracter = 0\n",
            "n = 4\n",
            "\n",
            "0\n",
            "00\n",
            "000\n",
            "0000\n"
          ]
        }
      ]
    },
    {
      "cell_type": "markdown",
      "metadata": {
        "id": "48IcIa5xhojO"
      },
      "source": [
        "## Ejercicio 6\n",
        "\n",
        "Leer un número entero e imprimir un triángulo rectángulo como el que se indica:\n",
        "\n",
        "1\n",
        "\n",
        "3 1\n",
        "\n",
        "5 3 1\n",
        "\n",
        "7 5 3 1\n",
        "\n",
        "En este caso el valor ingresado fue el 7"
      ]
    },
    {
      "cell_type": "code",
      "metadata": {
        "id": "_hHChPSch7Dm",
        "colab": {
          "base_uri": "https://localhost:8080/"
        },
        "outputId": "2722e394-d2e3-4bb1-fa23-48b769475b3c"
      },
      "source": [
        "# Lee la cantidad de líneas\n",
        "n = int(input(\"n = \"))\n",
        "# Genera el triangulo\n",
        "for i in range(1,n+1,2):\n",
        "  linea = \"\"\n",
        "  valor = i\n",
        "  while valor >= 1:\n",
        "    linea = linea + str(valor) + \" \"\n",
        "    valor -= 2\n",
        "  print(linea)"
      ],
      "execution_count": null,
      "outputs": [
        {
          "output_type": "stream",
          "name": "stdout",
          "text": [
            "n = 7\n",
            "1 \n",
            "3 1 \n",
            "5 3 1 \n",
            "7 5 3 1 \n"
          ]
        }
      ]
    },
    {
      "cell_type": "markdown",
      "metadata": {
        "id": "TP9Cm_95iB8P"
      },
      "source": [
        "## Ejercicio 7\n",
        "\n",
        "Almacenar en una variable un número que represente un número a adivinar y permitir al usuario ingresar un número hasta que acierte. Al final deberá inidcar la cantidad de intentos que tuvo antes de acertar."
      ]
    },
    {
      "cell_type": "code",
      "metadata": {
        "id": "ilrjG_xWiZxM",
        "colab": {
          "base_uri": "https://localhost:8080/"
        },
        "outputId": "455b1c5b-9509-456b-cd15-979be03b2385"
      },
      "source": [
        "# Guarda el número a adivinar\n",
        "adivinado = 29\n",
        "intento = 0\n",
        "while True:\n",
        "  numero = int(input(\"El número será? \"))\n",
        "  if numero == adivinado:\n",
        "    break\n",
        "  else:\n",
        "    intento += 1\n",
        "print(\"El número fue adivinado después de\", intento, \"intentos\")"
      ],
      "execution_count": null,
      "outputs": [
        {
          "output_type": "stream",
          "name": "stdout",
          "text": [
            "El número será? 23\n",
            "El número será? 45\n",
            "El número será? 56\n",
            "El número será? 29\n",
            "El número fue adivinado después de 3 intentos\n"
          ]
        }
      ]
    },
    {
      "cell_type": "markdown",
      "metadata": {
        "id": "LdisBUy8Cfds"
      },
      "source": [
        "## Ejercicio 8\n",
        "\n",
        "Escribir las instrucciones necesarias para:\n",
        "\n",
        "+ Leer un número entero ***n***.\n",
        "+ Leer n valores enteros y guardarlos en una lista llamada ***numeros***.\n",
        "+ Imprimir la suma de los valores almacenados en la lista; deberá recorrer la lista.\n",
        "+ Imprimir el promedio de los valores almacenados en la lista; deberá recorrer la lista.\n",
        "+ Imprimir los elementos de la lista que son mayores al promedio."
      ]
    },
    {
      "cell_type": "code",
      "metadata": {
        "id": "XGz11nz2DFvH",
        "colab": {
          "base_uri": "https://localhost:8080/"
        },
        "outputId": "f8c95230-3f58-4338-b06a-7c10ffacc0ef"
      },
      "source": [
        "# Lee el valor de n\n",
        "n = int(input(\"n = \"))\n",
        "numeros = []\n",
        "for i in range(n):\n",
        "  valor = int(input(\"Núnero = \"))\n",
        "  numeros.append(valor)\n",
        "# Recorre la lista\n",
        "suma = 0\n",
        "for valor in numeros:\n",
        "  suma += valor\n",
        "# Calcula el promedio\n",
        "promedio = suma/n\n",
        "print(\"Suma =\", suma, \"Promedio =\", promedio)\n",
        "# Obtiene los elementos mayores al promedio\n",
        "print(\"Valores de la lista mayores al promedio\")\n",
        "for valor in numeros:\n",
        "  if valor > promedio:\n",
        "    print(valor)"
      ],
      "execution_count": null,
      "outputs": [
        {
          "output_type": "stream",
          "name": "stdout",
          "text": [
            "n = 4\n",
            "Núnero = 15\n",
            "Núnero = 5\n",
            "Núnero = 30\n",
            "Núnero = 4\n",
            "Suma = 54 Promedio = 13.5\n",
            "Valores de la lista mayores al promedio\n",
            "15\n",
            "30\n"
          ]
        }
      ]
    },
    {
      "cell_type": "markdown",
      "metadata": {
        "id": "Ym277Kv4DQeM"
      },
      "source": [
        "## Ejercicio 9\n",
        "\n",
        "Escribir las instrucciones necesarias para:\n",
        "\n",
        "+ Crea un diccionario donde la clave sea el nombre de la asignatura de un estudiante y el valor sea la nota final que obtuvo un estudiante en la asignatura (es necesario validar que la nota esté dentro del intervalo [1,7]).\n",
        "\n",
        "+ Una vez que se hayan ingresado todas las asignaturas (ver lista de consideraciones) se deberá imprimir: \n",
        "\n",
        ">  *   El promedio de notas considerando todas las asignaturas registradas en el diccionario\n",
        ">  *   Nombre de todas las asignaturas registradas, indicando su nota y un mensaje que diga si están aprobadas o no.\n",
        "\n",
        "\n",
        "CONSIDERACIONES. \n",
        "+ El usuario debe poder ingresar asignaturas y notas hasta que se ingrese un \"-\".\n",
        "+ No se podrán ingresar asignaturas repetidas, por lo tanto, si se ingresa una asignatura repetida se debe imprimir un mensaje advirtiendo al usuario del inconveniente."
      ]
    },
    {
      "cell_type": "code",
      "metadata": {
        "id": "479NBHWvFI9F",
        "colab": {
          "base_uri": "https://localhost:8080/"
        },
        "outputId": "bc9f003f-caaf-4070-aa76-650e220a4ae9"
      },
      "source": [
        "datos = dict()\n",
        "# Leer los datos de las asignaturas\n",
        "while True:\n",
        "  # Obtiene la asignatura\n",
        "  asignatura = input(\"Nombre asignatura : \")\n",
        "  # Verifica si quiere salir\n",
        "  if asignatura == '-':\n",
        "    break\n",
        "  # Obtiene y valida la nota\n",
        "  while True:\n",
        "    nota = float(input(\"Nota : \"))\n",
        "    # Valida la nota\n",
        "    if nota >= 1 and nota <= 7:\n",
        "      break\n",
        "    else:\n",
        "      print(\"Valor de nota es inválido. Intente nuevamente\")\n",
        "  # Agrega los datos al diccionario\n",
        "  datos[asignatura] = nota\n",
        "# Obtención del promedio\n",
        "suma = 0\n",
        "for nota in datos.values():\n",
        "  suma += nota\n",
        "promedio = suma/len(datos.keys())\n",
        "print(\"Promedio :\", promedio)\n",
        "# Imprime datos de las asignaturas\n",
        "for asignatura in datos.keys():\n",
        "  nota = datos.get(asignatura)\n",
        "  print(\"Asignatura :\", asignatura, '- Nota :', nota)\n",
        "  if nota >= 4:\n",
        "    print(\"Aprobada\")\n",
        "  else:\n",
        "    print(\"Reprobada\")"
      ],
      "execution_count": null,
      "outputs": [
        {
          "output_type": "stream",
          "name": "stdout",
          "text": [
            "Nombre asignatura : CALCULO\n",
            "Nota : 6.7\n",
            "Nombre asignatura : PROGRAMACION\n",
            "Nota : 6.3\n",
            "Nombre asignatura : INGLES\n",
            "Nota : 5.5\n",
            "Nombre asignatura : ALGEBRA\n",
            "Nota : 3.5\n",
            "Nombre asignatura : -\n",
            "Promedio : 5.5\n",
            "CALCULO -nota : 6.7\n",
            "Aprobada\n",
            "PROGRAMACION -nota : 6.3\n",
            "Aprobada\n",
            "INGLES -nota : 5.5\n",
            "Aprobada\n",
            "ALGEBRA -nota : 3.5\n",
            "Reprobada\n"
          ]
        }
      ]
    }
  ]
}